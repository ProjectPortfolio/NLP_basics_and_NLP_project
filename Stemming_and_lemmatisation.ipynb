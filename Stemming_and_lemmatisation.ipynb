{
 "cells": [
  {
   "cell_type": "code",
   "execution_count": 25,
   "metadata": {},
   "outputs": [],
   "source": [
    "import nltk\n",
    "from nltk.stem import PorterStemmer #stemming\n",
    "from nltk.corpus import stopwords\n",
    "from nltk.stem import WordNetLemmatizer #lemmatisation"
   ]
  },
  {
   "cell_type": "code",
   "execution_count": 15,
   "metadata": {},
   "outputs": [],
   "source": [
    "paragraph = \"\"\"Speech is human vocal communication using language. Each language uses phonetic combinations of vowel and consonant sounds that form the sound of its words (that is, all English words sound different from all French words, even if they are the same word, e.g., \"role\" or \"hotel\"), and using those words in their semantic character as words in the lexicon of a language according to the syntactic constraints that govern lexical words' function in a sentence. In speaking, speakers perform many different intentional speech acts, e.g., informing, declaring, asking, persuading, directing, and can use enunciation, intonation, degrees of loudness, tempo, and other non-representational or paralinguistic aspects of vocalization to convey meaning. In their speech speakers also unintentionally communicate many aspects of their social position such as sex, age, place of origin (through accent), physical states (alertness and sleepiness, vigor or weakness, health or illness), psychic states (emotions or moods), physico-psychic states (sobriety or drunkenness, normal consciousness and trance states), education or experience, and the like.\"\"\""
   ]
  },
  {
   "cell_type": "code",
   "execution_count": 16,
   "metadata": {},
   "outputs": [],
   "source": [
    "sentences = nltk.sent_tokenize(paragraph)\n",
    "stemmer = PorterStemmer()"
   ]
  },
  {
   "cell_type": "code",
   "execution_count": 17,
   "metadata": {},
   "outputs": [
    {
     "name": "stdout",
     "output_type": "stream",
     "text": [
      "Number of total Sentences :  4\n",
      "['Speech is human vocal communication using language.', 'Each language uses phonetic combinations of vowel and consonant sounds that form the sound of its words (that is, all English words sound different from all French words, even if they are the same word, e.g., \"role\" or \"hotel\"), and using those words in their semantic character as words in the lexicon of a language according to the syntactic constraints that govern lexical words\\' function in a sentence.', 'In speaking, speakers perform many different intentional speech acts, e.g., informing, declaring, asking, persuading, directing, and can use enunciation, intonation, degrees of loudness, tempo, and other non-representational or paralinguistic aspects of vocalization to convey meaning.', 'In their speech speakers also unintentionally communicate many aspects of their social position such as sex, age, place of origin (through accent), physical states (alertness and sleepiness, vigor or weakness, health or illness), psychic states (emotions or moods), physico-psychic states (sobriety or drunkenness, normal consciousness and trance states), education or experience, and the like.']\n"
     ]
    }
   ],
   "source": [
    "print(\"Number of total Sentences : \",len(sentences))\n",
    "print(sentences)"
   ]
  },
  {
   "cell_type": "code",
   "execution_count": 27,
   "metadata": {},
   "outputs": [
    {
     "name": "stdout",
     "output_type": "stream",
     "text": [
      "['speech', 'human', 'vocal', 'commun', 'use', 'languag', '.', 'languag', 'use', 'phonet', 'combin', 'vowel', 'conson', 'sound', 'form', 'sound', 'word', '(', ',', 'english', 'word', 'sound', 'differ', 'french', 'word', ',', 'even', 'word', ',', 'e.g', '.', ',', '``', 'role', '``', '``', 'hotel', '``', ')', ',', 'use', 'word', 'semant', 'charact', 'word', 'lexicon', 'languag', 'accord', 'syntact', 'constraint', 'govern', 'lexic', 'word', \"'\", 'function', 'sentenc', '.', 'In', 'speak', ',', 'speaker', 'perform', 'mani', 'differ', 'intent', 'speech', 'act', ',', 'e.g', '.', ',', 'inform', ',', 'declar', ',', 'ask', ',', 'persuad', ',', 'direct', ',', 'use', 'enunci', ',', 'inton', ',', 'degr', 'loud', ',', 'tempo', ',', 'non-repres', 'paralinguist', 'aspect', 'vocal', 'convey', 'mean', '.', 'In', 'speech', 'speaker', 'also', 'unint', 'commun', 'mani', 'aspect', 'social', 'posit', 'sex', ',', 'age', ',', 'place', 'origin', '(', 'accent', ')', ',', 'physic', 'state', '(', 'alert', 'sleepi', ',', 'vigor', 'weak', ',', 'health', 'ill', ')', ',', 'psychic', 'state', '(', 'emot', 'mood', ')', ',', 'physico-psych', 'state', '(', 'sobrieti', 'drunken', ',', 'normal', 'consciou', 'tranc', 'state', ')', ',', 'educ', 'experi', ',', 'like', '.']\n",
      "['speech', 'human', 'vocal', 'commun', 'use', 'languag', '.', 'languag', 'use', 'phonet', 'combin', 'vowel', 'conson', 'sound', 'form', 'sound', 'word', '(', ',', 'english', 'word', 'sound', 'differ', 'french', 'word', ',', 'even', 'word', ',', 'e.g', '.', ',', '``', 'role', '``', '``', 'hotel', '``', ')', ',', 'use', 'word', 'semant', 'charact', 'word', 'lexicon', 'languag', 'accord', 'syntact', 'constraint', 'govern', 'lexic', 'word', \"'\", 'function', 'sentenc', '.', 'In', 'speak', ',', 'speaker', 'perform', 'mani', 'differ', 'intent', 'speech', 'act', ',', 'e.g', '.', ',', 'inform', ',', 'declar', ',', 'ask', ',', 'persuad', ',', 'direct', ',', 'use', 'enunci', ',', 'inton', ',', 'degr', 'loud', ',', 'tempo', ',', 'non-repres', 'paralinguist', 'aspect', 'vocal', 'convey', 'mean', '.', 'In', 'speech', 'speaker', 'also', 'unint', 'commun', 'mani', 'aspect', 'social', 'posit', 'sex', ',', 'age', ',', 'place', 'origin', '(', 'accent', ')', ',', 'physic', 'state', '(', 'alert', 'sleepi', ',', 'vigor', 'weak', ',', 'health', 'ill', ')', ',', 'psychic', 'state', '(', 'emot', 'mood', ')', ',', 'physico-psych', 'state', '(', 'sobrieti', 'drunken', ',', 'normal', 'consciou', 'tranc', 'state', ')', ',', 'educ', 'experi', ',', 'like', '.']\n",
      "['speech', 'human', 'vocal', 'commun', 'use', 'languag', '.', 'languag', 'use', 'phonet', 'combin', 'vowel', 'conson', 'sound', 'form', 'sound', 'word', '(', ',', 'english', 'word', 'sound', 'differ', 'french', 'word', ',', 'even', 'word', ',', 'e.g', '.', ',', '``', 'role', '``', '``', 'hotel', '``', ')', ',', 'use', 'word', 'semant', 'charact', 'word', 'lexicon', 'languag', 'accord', 'syntact', 'constraint', 'govern', 'lexic', 'word', \"'\", 'function', 'sentenc', '.', 'In', 'speak', ',', 'speaker', 'perform', 'mani', 'differ', 'intent', 'speech', 'act', ',', 'e.g', '.', ',', 'inform', ',', 'declar', ',', 'ask', ',', 'persuad', ',', 'direct', ',', 'use', 'enunci', ',', 'inton', ',', 'degr', 'loud', ',', 'tempo', ',', 'non-repres', 'paralinguist', 'aspect', 'vocal', 'convey', 'mean', '.', 'In', 'speech', 'speaker', 'also', 'unint', 'commun', 'mani', 'aspect', 'social', 'posit', 'sex', ',', 'age', ',', 'place', 'origin', '(', 'accent', ')', ',', 'physic', 'state', '(', 'alert', 'sleepi', ',', 'vigor', 'weak', ',', 'health', 'ill', ')', ',', 'psychic', 'state', '(', 'emot', 'mood', ')', ',', 'physico-psych', 'state', '(', 'sobrieti', 'drunken', ',', 'normal', 'consciou', 'tranc', 'state', ')', ',', 'educ', 'experi', ',', 'like', '.']\n",
      "['speech', 'human', 'vocal', 'commun', 'use', 'languag', '.', 'languag', 'use', 'phonet', 'combin', 'vowel', 'conson', 'sound', 'form', 'sound', 'word', '(', ',', 'english', 'word', 'sound', 'differ', 'french', 'word', ',', 'even', 'word', ',', 'e.g', '.', ',', '``', 'role', '``', '``', 'hotel', '``', ')', ',', 'use', 'word', 'semant', 'charact', 'word', 'lexicon', 'languag', 'accord', 'syntact', 'constraint', 'govern', 'lexic', 'word', \"'\", 'function', 'sentenc', '.', 'In', 'speak', ',', 'speaker', 'perform', 'mani', 'differ', 'intent', 'speech', 'act', ',', 'e.g', '.', ',', 'inform', ',', 'declar', ',', 'ask', ',', 'persuad', ',', 'direct', ',', 'use', 'enunci', ',', 'inton', ',', 'degr', 'loud', ',', 'tempo', ',', 'non-repres', 'paralinguist', 'aspect', 'vocal', 'convey', 'mean', '.', 'In', 'speech', 'speaker', 'also', 'unint', 'commun', 'mani', 'aspect', 'social', 'posit', 'sex', ',', 'age', ',', 'place', 'origin', '(', 'accent', ')', ',', 'physic', 'state', '(', 'alert', 'sleepi', ',', 'vigor', 'weak', ',', 'health', 'ill', ')', ',', 'psychic', 'state', '(', 'emot', 'mood', ')', ',', 'physico-psych', 'state', '(', 'sobrieti', 'drunken', ',', 'normal', 'consciou', 'tranc', 'state', ')', ',', 'educ', 'experi', ',', 'like', '.']\n"
     ]
    }
   ],
   "source": [
    "#stemming\n",
    "for i in range(len(sentences)):\n",
    "    words = nltk.word_tokenize(sentences[i])\n",
    "    words = [stemmer.stem(word)for word in words if word not in set(stopwords.words(\"english\"))]\n",
    "    print(words)\n",
    "    sentences[i] = ' '.join(words)\n"
   ]
  },
  {
   "cell_type": "code",
   "execution_count": 29,
   "metadata": {},
   "outputs": [
    {
     "name": "stdout",
     "output_type": "stream",
     "text": [
      "speech human vocal commun use languag . languag use phonet combin vowel conson sound form sound word ( , english word sound differ french word , even word , e.g . , `` role `` `` hotel `` ) , use word semant charact word lexicon languag accord syntact constraint govern lexic word ' function sentenc . In speak , speaker perform mani differ intent speech act , e.g . , inform , declar , ask , persuad , direct , use enunci , inton , degr loud , tempo , non-repres paralinguist aspect vocal convey mean . In speech speaker also unint commun mani aspect social posit sex , age , place origin ( accent ) , physic state ( alert sleepi , vigor weak , health ill ) , psychic state ( emot mood ) , physico-psych state ( sobrieti drunken , normal consciou tranc state ) , educ experi , like .\n"
     ]
    }
   ],
   "source": [
    "print(sentences[i]) #sentences without stopword"
   ]
  },
  {
   "cell_type": "code",
   "execution_count": 26,
   "metadata": {},
   "outputs": [],
   "source": [
    "lemma = WordNetLemmatizer()"
   ]
  },
  {
   "cell_type": "code",
   "execution_count": 34,
   "metadata": {},
   "outputs": [
    {
     "name": "stdout",
     "output_type": "stream",
     "text": [
      "['speech', 'human', 'vocal', 'commun', 'use', 'languag', '.', 'languag', 'use', 'phonet', 'combin', 'vowel', 'conson', 'sound', 'form', 'sound', 'word', '(', ',', 'english', 'word', 'sound', 'differ', 'french', 'word', ',', 'even', 'word', ',', 'e.g', '.', ',', '``', 'role', '``', '``', 'hotel', '``', ')', ',', 'use', 'word', 'semant', 'charact', 'word', 'lexicon', 'languag', 'accord', 'syntact', 'constraint', 'govern', 'lexic', 'word', \"'\", 'function', 'sentenc', '.', 'In', 'speak', ',', 'speaker', 'perform', 'mani', 'differ', 'intent', 'speech', 'act', ',', 'e.g', '.', ',', 'inform', ',', 'declar', ',', 'ask', ',', 'persuad', ',', 'direct', ',', 'use', 'enunci', ',', 'inton', ',', 'degr', 'loud', ',', 'tempo', ',', 'non-repres', 'paralinguist', 'aspect', 'vocal', 'convey', 'mean', '.', 'In', 'speech', 'speaker', 'also', 'unint', 'commun', 'mani', 'aspect', 'social', 'posit', 'sex', ',', 'age', ',', 'place', 'origin', '(', 'accent', ')', ',', 'physic', 'state', '(', 'alert', 'sleepi', ',', 'vigor', 'weak', ',', 'health', 'ill', ')', ',', 'psychic', 'state', '(', 'emot', 'mood', ')', ',', 'physico-psych', 'state', '(', 'sobrieti', 'drunken', ',', 'normal', 'consciou', 'tranc', 'state', ')', ',', 'educ', 'experi', ',', 'like', '.']\n",
      "['speech', 'human', 'vocal', 'commun', 'use', 'languag', '.', 'languag', 'use', 'phonet', 'combin', 'vowel', 'conson', 'sound', 'form', 'sound', 'word', '(', ',', 'english', 'word', 'sound', 'differ', 'french', 'word', ',', 'even', 'word', ',', 'e.g', '.', ',', '``', 'role', '``', '``', 'hotel', '``', ')', ',', 'use', 'word', 'semant', 'charact', 'word', 'lexicon', 'languag', 'accord', 'syntact', 'constraint', 'govern', 'lexic', 'word', \"'\", 'function', 'sentenc', '.', 'In', 'speak', ',', 'speaker', 'perform', 'mani', 'differ', 'intent', 'speech', 'act', ',', 'e.g', '.', ',', 'inform', ',', 'declar', ',', 'ask', ',', 'persuad', ',', 'direct', ',', 'use', 'enunci', ',', 'inton', ',', 'degr', 'loud', ',', 'tempo', ',', 'non-repres', 'paralinguist', 'aspect', 'vocal', 'convey', 'mean', '.', 'In', 'speech', 'speaker', 'also', 'unint', 'commun', 'mani', 'aspect', 'social', 'posit', 'sex', ',', 'age', ',', 'place', 'origin', '(', 'accent', ')', ',', 'physic', 'state', '(', 'alert', 'sleepi', ',', 'vigor', 'weak', ',', 'health', 'ill', ')', ',', 'psychic', 'state', '(', 'emot', 'mood', ')', ',', 'physico-psych', 'state', '(', 'sobrieti', 'drunken', ',', 'normal', 'consciou', 'tranc', 'state', ')', ',', 'educ', 'experi', ',', 'like', '.']\n",
      "['speech', 'human', 'vocal', 'commun', 'use', 'languag', '.', 'languag', 'use', 'phonet', 'combin', 'vowel', 'conson', 'sound', 'form', 'sound', 'word', '(', ',', 'english', 'word', 'sound', 'differ', 'french', 'word', ',', 'even', 'word', ',', 'e.g', '.', ',', '``', 'role', '``', '``', 'hotel', '``', ')', ',', 'use', 'word', 'semant', 'charact', 'word', 'lexicon', 'languag', 'accord', 'syntact', 'constraint', 'govern', 'lexic', 'word', \"'\", 'function', 'sentenc', '.', 'In', 'speak', ',', 'speaker', 'perform', 'mani', 'differ', 'intent', 'speech', 'act', ',', 'e.g', '.', ',', 'inform', ',', 'declar', ',', 'ask', ',', 'persuad', ',', 'direct', ',', 'use', 'enunci', ',', 'inton', ',', 'degr', 'loud', ',', 'tempo', ',', 'non-repres', 'paralinguist', 'aspect', 'vocal', 'convey', 'mean', '.', 'In', 'speech', 'speaker', 'also', 'unint', 'commun', 'mani', 'aspect', 'social', 'posit', 'sex', ',', 'age', ',', 'place', 'origin', '(', 'accent', ')', ',', 'physic', 'state', '(', 'alert', 'sleepi', ',', 'vigor', 'weak', ',', 'health', 'ill', ')', ',', 'psychic', 'state', '(', 'emot', 'mood', ')', ',', 'physico-psych', 'state', '(', 'sobrieti', 'drunken', ',', 'normal', 'consciou', 'tranc', 'state', ')', ',', 'educ', 'experi', ',', 'like', '.']\n",
      "['speech', 'human', 'vocal', 'commun', 'use', 'languag', '.', 'languag', 'use', 'phonet', 'combin', 'vowel', 'conson', 'sound', 'form', 'sound', 'word', '(', ',', 'english', 'word', 'sound', 'differ', 'french', 'word', ',', 'even', 'word', ',', 'e.g', '.', ',', '``', 'role', '``', '``', 'hotel', '``', ')', ',', 'use', 'word', 'semant', 'charact', 'word', 'lexicon', 'languag', 'accord', 'syntact', 'constraint', 'govern', 'lexic', 'word', \"'\", 'function', 'sentenc', '.', 'In', 'speak', ',', 'speaker', 'perform', 'mani', 'differ', 'intent', 'speech', 'act', ',', 'e.g', '.', ',', 'inform', ',', 'declar', ',', 'ask', ',', 'persuad', ',', 'direct', ',', 'use', 'enunci', ',', 'inton', ',', 'degr', 'loud', ',', 'tempo', ',', 'non-repres', 'paralinguist', 'aspect', 'vocal', 'convey', 'mean', '.', 'In', 'speech', 'speaker', 'also', 'unint', 'commun', 'mani', 'aspect', 'social', 'posit', 'sex', ',', 'age', ',', 'place', 'origin', '(', 'accent', ')', ',', 'physic', 'state', '(', 'alert', 'sleepi', ',', 'vigor', 'weak', ',', 'health', 'ill', ')', ',', 'psychic', 'state', '(', 'emot', 'mood', ')', ',', 'physico-psych', 'state', '(', 'sobrieti', 'drunken', ',', 'normal', 'consciou', 'tranc', 'state', ')', ',', 'educ', 'experi', ',', 'like', '.']\n"
     ]
    }
   ],
   "source": [
    "for i in range(len(sentences)):\n",
    "    lwords = nltk.word_tokenize(sentences[i])\n",
    "    lwords = [lemma.lemmatize(word)for word in lwords if word not in set(stopwords.words(\"english\"))]\n",
    "    print(lwords)\n",
    "    sentences[i] = ' '.join(lwords)"
   ]
  },
  {
   "cell_type": "code",
   "execution_count": 35,
   "metadata": {},
   "outputs": [
    {
     "name": "stdout",
     "output_type": "stream",
     "text": [
      "speech human vocal commun use languag . languag use phonet combin vowel conson sound form sound word ( , english word sound differ french word , even word , e.g . , `` role `` `` hotel `` ) , use word semant charact word lexicon languag accord syntact constraint govern lexic word ' function sentenc . In speak , speaker perform mani differ intent speech act , e.g . , inform , declar , ask , persuad , direct , use enunci , inton , degr loud , tempo , non-repres paralinguist aspect vocal convey mean . In speech speaker also unint commun mani aspect social posit sex , age , place origin ( accent ) , physic state ( alert sleepi , vigor weak , health ill ) , psychic state ( emot mood ) , physico-psych state ( sobrieti drunken , normal consciou tranc state ) , educ experi , like .\n"
     ]
    }
   ],
   "source": [
    "print(sentences[i])"
   ]
  },
  {
   "cell_type": "code",
   "execution_count": null,
   "metadata": {},
   "outputs": [],
   "source": []
  }
 ],
 "metadata": {
  "kernelspec": {
   "display_name": "Python 3",
   "language": "python",
   "name": "python3"
  },
  "language_info": {
   "codemirror_mode": {
    "name": "ipython",
    "version": 3
   },
   "file_extension": ".py",
   "mimetype": "text/x-python",
   "name": "python",
   "nbconvert_exporter": "python",
   "pygments_lexer": "ipython3",
   "version": "3.7.4"
  }
 },
 "nbformat": 4,
 "nbformat_minor": 2
}
