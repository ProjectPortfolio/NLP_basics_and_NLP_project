{
 "cells": [
  {
   "cell_type": "code",
   "execution_count": 3,
   "metadata": {},
   "outputs": [
    {
     "name": "stdout",
     "output_type": "stream",
     "text": [
      "showing info https://raw.githubusercontent.com/nltk/nltk_data/gh-pages/index.xml\n"
     ]
    },
    {
     "data": {
      "text/plain": [
       "True"
      ]
     },
     "execution_count": 3,
     "metadata": {},
     "output_type": "execute_result"
    }
   ],
   "source": [
    "import nltk\n",
    "nltk.download()"
   ]
  },
  {
   "cell_type": "code",
   "execution_count": 6,
   "metadata": {},
   "outputs": [],
   "source": [
    "paragraph = \"\"\"Speech is human vocal communication using language.\n",
    "Each language uses phonetic combinations of vowel and consonant sounds that form the \n",
    "sound of its words (that is, all English words sound different from all French words, even\n",
    "if they are the same word, e.g., \"role\" or \"hotel\"), and using those words in their semantic character as \n",
    "words in the lexicon of a language according to the syntactic constraints that govern lexical words' function in a \n",
    "sentence. In speaking, speakers perform many different intentional speech acts, e.g., informing, declaring, asking, \n",
    "persuading, directing, and can use enunciation, intonation, degrees of loudness, tempo, and \n",
    "other non-representational or paralinguistic aspects of vocalization to convey meaning. \n",
    "In their speech speakers also unintentionally communicate many aspects of their social position\n",
    "such as sex, age, place of origin (through accent), physical states (alertness and sleepiness, vigor or weakness,\n",
    "health or illness), psychic states (emotions or moods), physico-psychic states (sobriety or drunkenness, \n",
    "normal consciousness and trance states), education or experience, and the like.\"\"\""
   ]
  },
  {
   "cell_type": "code",
   "execution_count": 8,
   "metadata": {},
   "outputs": [
    {
     "name": "stdout",
     "output_type": "stream",
     "text": [
      "['Speech is human vocal communication using language.', 'Each language uses phonetic combinations of vowel and consonant sounds that form the \\nsound of its words (that is, all English words sound different from all French words, even\\nif they are the same word, e.g., \"role\" or \"hotel\"), and using those words in their semantic character as \\nwords in the lexicon of a language according to the syntactic constraints that govern lexical words\\' function in a \\nsentence.', 'In speaking, speakers perform many different intentional speech acts, e.g., informing, declaring, asking, \\npersuading, directing, and can use enunciation, intonation, degrees of loudness, tempo, and \\nother non-representational or paralinguistic aspects of vocalization to convey meaning.', 'In their speech speakers also unintentionally communicate many aspects of their social position\\nsuch as sex, age, place of origin (through accent), physical states (alertness and sleepiness, vigor or weakness,\\nhealth or illness), psychic states (emotions or moods), physico-psychic states (sobriety or drunkenness, \\nnormal consciousness and trance states), education or experience, and the like.']\n"
     ]
    }
   ],
   "source": [
    "#convert paragraph into sentences\n",
    "sentences = nltk.sent_tokenize(paragraph)\n",
    "print(sentences)"
   ]
  },
  {
   "cell_type": "code",
   "execution_count": 9,
   "metadata": {},
   "outputs": [
    {
     "name": "stdout",
     "output_type": "stream",
     "text": [
      "['Speech', 'is', 'human', 'vocal', 'communication', 'using', 'language', '.', 'Each', 'language', 'uses', 'phonetic', 'combinations', 'of', 'vowel', 'and', 'consonant', 'sounds', 'that', 'form', 'the', 'sound', 'of', 'its', 'words', '(', 'that', 'is', ',', 'all', 'English', 'words', 'sound', 'different', 'from', 'all', 'French', 'words', ',', 'even', 'if', 'they', 'are', 'the', 'same', 'word', ',', 'e.g.', ',', '``', 'role', \"''\", 'or', '``', 'hotel', \"''\", ')', ',', 'and', 'using', 'those', 'words', 'in', 'their', 'semantic', 'character', 'as', 'words', 'in', 'the', 'lexicon', 'of', 'a', 'language', 'according', 'to', 'the', 'syntactic', 'constraints', 'that', 'govern', 'lexical', 'words', \"'\", 'function', 'in', 'a', 'sentence', '.', 'In', 'speaking', ',', 'speakers', 'perform', 'many', 'different', 'intentional', 'speech', 'acts', ',', 'e.g.', ',', 'informing', ',', 'declaring', ',', 'asking', ',', 'persuading', ',', 'directing', ',', 'and', 'can', 'use', 'enunciation', ',', 'intonation', ',', 'degrees', 'of', 'loudness', ',', 'tempo', ',', 'and', 'other', 'non-representational', 'or', 'paralinguistic', 'aspects', 'of', 'vocalization', 'to', 'convey', 'meaning', '.', 'In', 'their', 'speech', 'speakers', 'also', 'unintentionally', 'communicate', 'many', 'aspects', 'of', 'their', 'social', 'position', 'such', 'as', 'sex', ',', 'age', ',', 'place', 'of', 'origin', '(', 'through', 'accent', ')', ',', 'physical', 'states', '(', 'alertness', 'and', 'sleepiness', ',', 'vigor', 'or', 'weakness', ',', 'health', 'or', 'illness', ')', ',', 'psychic', 'states', '(', 'emotions', 'or', 'moods', ')', ',', 'physico-psychic', 'states', '(', 'sobriety', 'or', 'drunkenness', ',', 'normal', 'consciousness', 'and', 'trance', 'states', ')', ',', 'education', 'or', 'experience', ',', 'and', 'the', 'like', '.']\n"
     ]
    }
   ],
   "source": [
    "#paragraph into sentences\n",
    "word = nltk.word_tokenize(paragraph)\n",
    "print(word)\n",
    "print(len(w))\n"
   ]
  },
  {
   "cell_type": "code",
   "execution_count": null,
   "metadata": {},
   "outputs": [],
   "source": []
  }
 ],
 "metadata": {
  "kernelspec": {
   "display_name": "Python 3",
   "language": "python",
   "name": "python3"
  },
  "language_info": {
   "codemirror_mode": {
    "name": "ipython",
    "version": 3
   },
   "file_extension": ".py",
   "mimetype": "text/x-python",
   "name": "python",
   "nbconvert_exporter": "python",
   "pygments_lexer": "ipython3",
   "version": "3.7.4"
  }
 },
 "nbformat": 4,
 "nbformat_minor": 2
}
