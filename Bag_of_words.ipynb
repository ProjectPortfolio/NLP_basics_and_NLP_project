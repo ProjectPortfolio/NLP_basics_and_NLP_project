{
 "cells": [
  {
   "cell_type": "code",
   "execution_count": 1,
   "metadata": {},
   "outputs": [],
   "source": [
    "import nltk\n",
    "import re\n",
    "from nltk.stem import PorterStemmer,WordNetLemmatizer\n",
    "from nltk.corpus import stopwords"
   ]
  },
  {
   "cell_type": "code",
   "execution_count": 2,
   "metadata": {},
   "outputs": [],
   "source": [
    "paragraph = \"\"\"\n",
    "In computing, stop words are words which are filtered out before or after processing of natural \n",
    "language data (text).[1] Though \"stop words\" usually refers to the most common words in a language, \n",
    "there is no single universal list of stop words used by all natural language processing tools, and\n",
    "indeed not all tools even use such a list. \n",
    "Some tools specifically avoid removing these stop words to support phrase search.\n",
    "\n",
    "\"\"\""
   ]
  },
  {
   "cell_type": "code",
   "execution_count": 3,
   "metadata": {},
   "outputs": [],
   "source": [
    "ps = PorterStemmer()\n",
    "wl = WordNetLemmatizer()"
   ]
  },
  {
   "cell_type": "code",
   "execution_count": 6,
   "metadata": {},
   "outputs": [
    {
     "name": "stdout",
     "output_type": "stream",
     "text": [
      "['\\nIn computing, stop words are words which are filtered out before or after processing of natural \\nlanguage data (text).', '[1] Though \"stop words\" usually refers to the most common words in a language, \\nthere is no single universal list of stop words used by all natural language processing tools, and\\nindeed not all tools even use such a list.', 'Some tools specifically avoid removing these stop words to support phrase search.']\n"
     ]
    }
   ],
   "source": [
    "sentences = nltk.sent_tokenize(paragraph)\n",
    "print(sentences)"
   ]
  },
  {
   "cell_type": "code",
   "execution_count": 21,
   "metadata": {},
   "outputs": [
    {
     "name": "stdout",
     "output_type": "stream",
     "text": [
      "['computing', 'stop', 'word', 'word', 'filtered', 'processing', 'natural', 'language', 'data', 'text']\n",
      "['though', 'stop', 'word', 'usually', 'refers', 'common', 'word', 'language', 'single', 'universal', 'list', 'stop', 'word', 'used', 'natural', 'language', 'processing', 'tool', 'indeed', 'tool', 'even', 'use', 'list']\n",
      "['tool', 'specifically', 'avoid', 'removing', 'stop', 'word', 'support', 'phrase', 'search']\n"
     ]
    }
   ],
   "source": [
    "corpus = []\n",
    "for i in range(len(sentences)):\n",
    "    review = re.sub('[^a-zA-Z]',' ',sentences[i])\n",
    "    review = review.lower()\n",
    "    review = review.split()\n",
    "    review = [wl.lemmatize(word) for word in review if not word in set(stopwords.words(\"english\"))]\n",
    "    print(review)\n",
    "    review = ' '.join(review)\n",
    "    corpus.append(review)\n"
   ]
  },
  {
   "cell_type": "code",
   "execution_count": 22,
   "metadata": {},
   "outputs": [],
   "source": [
    "#create bag of words\n",
    "from sklearn.feature_extraction.text import CountVectorizer\n",
    "cv = CountVectorizer()\n",
    "X = cv.fit_transform(corpus).toarray()"
   ]
  },
  {
   "cell_type": "code",
   "execution_count": 23,
   "metadata": {},
   "outputs": [
    {
     "name": "stdout",
     "output_type": "stream",
     "text": [
      "[[0 0 1 1 0 1 0 1 0 1 0 1 0 0 0 0 0 1 0 1 0 0 0 0 0 0 2]\n",
      " [0 1 0 0 1 0 1 2 2 1 0 1 1 0 0 1 0 2 0 0 1 2 1 1 1 1 3]\n",
      " [1 0 0 0 0 0 0 0 0 0 1 0 0 1 1 0 1 1 1 0 0 1 0 0 0 0 1]]\n"
     ]
    }
   ],
   "source": [
    "print(X) #this is bag of words "
   ]
  },
  {
   "cell_type": "code",
   "execution_count": null,
   "metadata": {},
   "outputs": [],
   "source": []
  }
 ],
 "metadata": {
  "kernelspec": {
   "display_name": "Python 3",
   "language": "python",
   "name": "python3"
  },
  "language_info": {
   "codemirror_mode": {
    "name": "ipython",
    "version": 3
   },
   "file_extension": ".py",
   "mimetype": "text/x-python",
   "name": "python",
   "nbconvert_exporter": "python",
   "pygments_lexer": "ipython3",
   "version": "3.7.4"
  }
 },
 "nbformat": 4,
 "nbformat_minor": 2
}
